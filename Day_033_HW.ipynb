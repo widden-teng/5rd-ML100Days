{
 "cells": [
  {
   "cell_type": "markdown",
   "metadata": {},
   "source": [
    "## 練習時間"
   ]
  },
  {
   "cell_type": "markdown",
   "metadata": {},
   "source": [
    "請觀看李宏毅教授以神奇寶貝進化 CP 值預測的範例，解說何謂機器學習與過擬合。並回答以下問題"
   ]
  },
  {
   "cell_type": "markdown",
   "metadata": {},
   "source": [
    "[youtube](https://www.youtube.com/watch?v=fegAeph9UaA)"
   ]
  },
  {
   "cell_type": "markdown",
   "metadata": {},
   "source": [
    "### 1. 模型的泛化能力 (generalization) 是指什麼？ \n",
    "### 2. 分類問題與回歸問題分別可用的目標函數有哪些？"
   ]
  },
  {
   "cell_type": "code",
   "execution_count": 2,
   "metadata": {},
   "outputs": [
    {
     "data": {
      "text/plain": [
       "'1.模型在沒見過的資料上，也能準確預測的能力。\\n2.分類問題\\n交叉熵損失函數 softmax\\n\\n合頁損失函數\\n\\n指數損失函數\\n\\n對比損失函數\\n\\n回歸問題\\nMSE : 均方誤差（ L2 損失函數 ）\\n\\nMAE : 平均絕對值誤差（ L1 損失函數 ）\\n\\nHuber 損失函數（ 平滑的平均絕對誤差 ）\\n\\nLog-Cosh 損失函數'"
      ]
     },
     "execution_count": 2,
     "metadata": {},
     "output_type": "execute_result"
    }
   ],
   "source": [
    "'''\n",
    "1.模型在沒見過的資料上，也能準確預測的能力。\n",
    "2.分類問題\n",
    "交叉熵損失函數 softmax\n",
    "\n",
    "合頁損失函數\n",
    "\n",
    "指數損失函數\n",
    "\n",
    "對比損失函數\n",
    "\n",
    "回歸問題\n",
    "MSE : 均方誤差（ L2 損失函數 ）\n",
    "\n",
    "MAE : 平均絕對值誤差（ L1 損失函數 ）\n",
    "\n",
    "Huber 損失函數（ 平滑的平均絕對誤差 ）\n",
    "\n",
    "Log-Cosh 損失函數'''"
   ]
  },
  {
   "cell_type": "code",
   "execution_count": null,
   "metadata": {},
   "outputs": [],
   "source": []
  }
 ],
 "metadata": {
  "kernelspec": {
   "display_name": "Python 3",
   "language": "python",
   "name": "python3"
  },
  "language_info": {
   "codemirror_mode": {
    "name": "ipython",
    "version": 3
   },
   "file_extension": ".py",
   "mimetype": "text/x-python",
   "name": "python",
   "nbconvert_exporter": "python",
   "pygments_lexer": "ipython3",
   "version": "3.7.9"
  }
 },
 "nbformat": 4,
 "nbformat_minor": 2
}
