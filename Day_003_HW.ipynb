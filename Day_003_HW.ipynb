{
 "cells": [
  {
   "cell_type": "markdown",
   "metadata": {},
   "source": [
    "## [作業目標]\n",
    "持續接觸有關機器學習的相關專案與最新技術"
   ]
  },
  {
   "cell_type": "markdown",
   "metadata": {},
   "source": [
    "## [作業重點]\n",
    "透過觀察頂尖公司的機器學習文章，來了解各公司是怎麼應用機器學習在實際的專案上"
   ]
  },
  {
   "cell_type": "markdown",
   "metadata": {},
   "source": [
    "## [作業]\n",
    "今天的作業希望大家能夠看看全球機器學習巨頭們在做的機器學習專案。以 google 為例，下圖是 Google 內部專案使用機器學習的數量，隨著時間進展，現在早已超過 2000 個專案在使用機器學習。"
   ]
  },
  {
   "cell_type": "markdown",
   "metadata": {},
   "source": [
    "![image](https://cdn-images-1.medium.com/max/800/1*U_L8qI8RmYS-MOBrYvXhSA.png)"
   ]
  },
  {
   "cell_type": "markdown",
   "metadata": {},
   "source": [
    "底下幫同學整理幾間知名企業的 blog 或機器學習網站 (自行搜尋也可)，這些網站都會整理最新的機器學習專案或者是技術文章，請挑選一篇文章閱讀並試著回答\n",
    "1. 專案的目標？ (要解決什麼問題）\n",
    "2. 使用的技術是？ (只需知道名稱即可，例如：使用 CNN 卷積神經網路做影像分類)\n",
    "3. 資料來源？ "
   ]
  },
  {
   "cell_type": "markdown",
   "metadata": {},
   "source": [
    "- [Google AI blog](https://ai.googleblog.com/)\n",
    "- [Facebook Research blog](https://research.fb.com/blog/)\n",
    "- [Apple machine learning journal](https://machinelearning.apple.com/)\n",
    "- [機器之心](https://www.jiqizhixin.com/)\n",
    "- [雷鋒網](http://www.leiphone.com/category/ai)"
   ]
  },
  {
   "cell_type": "code",
   "execution_count": null,
   "metadata": {},
   "outputs": [],
   "source": [
    "\"\"\"\n",
    "    google AIblog\n",
    "    1.利用設備上的機器學習（ML）來轉錄錄音，突出顯示音頻事件並為標題提供合適的標籤，從而使錄音變得更智能，更有用。\n",
    "    2.Smart Scrolling(會自動標記記錄中的重要部分，從每個部分中選擇最具代表性的關鍵字，然後將這些關鍵字顯示在垂直滾動條上)\n",
    "      採用兩種不同的自然語言處理（NLP）方法:BERT和TF-IDF\n",
    "      通過將BERT和基於TF-IDF的模型並行用於關鍵字提取和重要部分識別任務，以及聚合啟發式方法，我們能夠利用每種方法的優勢並減輕其各自的弊端\n",
    "    3.https://ai.googleblog.com/\n",
    "      通過為每個單詞賦予分數來檢測信息性關鍵字，該分數對應於該關鍵字在文本中的代表性。該模型這樣做，就像一個標準的TF-IDF模型，\n",
    "      利用相比於整個會話數據集的文本給定單詞的出現次數的比例，但也考慮到了特異性的術語，即它的廣泛或具體。此外，該模型隨後使用\n",
    "      預先訓練的函數曲線將這些特徵聚合為一個分數。與此並行，雙向轉換器模型在提取關鍵字的任務上進行了微調，可以對文本進行深入的\n",
    "      語義理解，從而可以提取精確的上下文感知關鍵字。\"\"\""
   ]
  }
 ],
 "metadata": {
  "kernelspec": {
   "display_name": "Python 3",
   "language": "python",
   "name": "python3"
  },
  "language_info": {
   "codemirror_mode": {
    "name": "ipython",
    "version": 3
   },
   "file_extension": ".py",
   "mimetype": "text/x-python",
   "name": "python",
   "nbconvert_exporter": "python",
   "pygments_lexer": "ipython3",
   "version": "3.7.9"
  }
 },
 "nbformat": 4,
 "nbformat_minor": 2
}
