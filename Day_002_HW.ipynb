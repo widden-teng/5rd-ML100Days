{
 "cells": [
  {
   "cell_type": "markdown",
   "metadata": {},
   "source": [
    "## [作業目標]\n",
    "了解機器學習適合應用的領域與範疇。"
   ]
  },
  {
   "cell_type": "markdown",
   "metadata": {},
   "source": [
    "## [作業重點]\n",
    "透過瞭解機器學習的運作方式，找出非常適用機器學習應用的領域及其原因"
   ]
  },
  {
   "cell_type": "markdown",
   "metadata": {},
   "source": [
    "## 作業\n",
    "請找出一個你認為機器學習可以發光發熱的領域並闡述原因? "
   ]
  },
  {
   "cell_type": "code",
   "execution_count": 4,
   "metadata": {},
   "outputs": [
    {
     "data": {
      "text/plain": [
       "'\\n醫療診斷\\n     我認為ML可用於分析臨床參數及其組合對預後的重要性,\\n     例如，預測疾病進展、提取對結果研究的醫學知識、對治療的計劃和支持以及全面的患者管理\\n     也可用於數據分析，例如通過適當處理不完善的數據、對重症監護室使用的連續數據的解釋以及智能報警，\\n     從而進行有效和高效的監測來檢測數據的規律性。\\n'"
      ]
     },
     "execution_count": 4,
     "metadata": {},
     "output_type": "execute_result"
    }
   ],
   "source": [
    "   \"\"\"\n",
    "   醫療診斷\n",
    "        我認為ML可用於分析臨床參數及其組合對預後的重要性,\n",
    "        例如，預測疾病進展、提取對結果研究的醫學知識、對治療的計劃和支持以及全面的患者管理\n",
    "        也可用於數據分析，例如通過適當處理不完善的數據、對重症監護室使用的連續數據的解釋以及智能報警，\n",
    "        從而進行有效和高效的監測來檢測數據的規律性。\n",
    "   \"\"\"\n",
    "\n",
    "        "
   ]
  }
 ],
 "metadata": {
  "kernelspec": {
   "display_name": "Python 3",
   "language": "python",
   "name": "python3"
  },
  "language_info": {
   "codemirror_mode": {
    "name": "ipython",
    "version": 3
   },
   "file_extension": ".py",
   "mimetype": "text/x-python",
   "name": "python",
   "nbconvert_exporter": "python",
   "pygments_lexer": "ipython3",
   "version": "3.7.9"
  }
 },
 "nbformat": 4,
 "nbformat_minor": 2
}
